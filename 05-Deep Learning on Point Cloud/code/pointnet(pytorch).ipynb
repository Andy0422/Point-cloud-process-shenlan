{
  "cells": [
    {
      "cell_type": "code",
      "execution_count": null,
      "metadata": {
        "colab": {
          "base_uri": "https://localhost:8080/",
          "height": 0
        },
        "id": "qADOBxU-r0TB",
        "outputId": "0a6e2a39-758b-4b2e-c11e-2da74724b6ff"
      },
      "outputs": [],
      "source": [
        "gpu_info = !nvidia-smi\n",
        "gpu_info = '\\n'.join(gpu_info)\n",
        "if gpu_info.find('failed') >= 0:\n",
        "  print('Select the Runtime > \"Change runtime type\" menu to enable a GPU accelerator, ')\n",
        "  print('and then re-execute this cell.')\n",
        "else:\n",
        "  print(gpu_info)"
      ]
    },
    {
      "cell_type": "markdown",
      "metadata": {
        "id": "f5KSeAvVsXKU"
      },
      "source": [
        "导入相关库"
      ]
    },
    {
      "cell_type": "code",
      "execution_count": null,
      "metadata": {
        "id": "7Q3cUTVTsca8"
      },
      "outputs": [],
      "source": [
        "import  torch.utils.data as data\n",
        "import os\n",
        "import torch\n",
        "import numpy as np\n",
        "import glob\n",
        "import pandas as pd\n",
        "import torch.nn.functional as F\n",
        "from torch import nn\n",
        "import torch.optim as optim\n",
        "from tqdm import  tqdm\n",
        "from torchsummary import summary\n",
        "from torch.autograd import Variable"
      ]
    },
    {
      "cell_type": "markdown",
      "metadata": {
        "id": "kaLU-cXa7QRc"
      },
      "source": [
        "制作数据载入器"
      ]
    },
    {
      "cell_type": "code",
      "execution_count": null,
      "metadata": {
        "id": "zeVThofztHrf"
      },
      "outputs": [],
      "source": [
        "root = \"/workspace/Data/modelnet40_normal_resampled\"\n",
        "npoints = 9999\n",
        "split = \"train\"\n",
        "data_augmentation = True"
      ]
    },
    {
      "cell_type": "code",
      "execution_count": null,
      "metadata": {
        "id": "m7hRquCvt24v"
      },
      "outputs": [],
      "source": [
        "cls_names = glob.glob(os.path.join(root,\"*/*.txt\"))\n",
        "cls_names = [p.split(\"/\")[4] for p in cls_names]\n",
        "cls_names = np.unique(cls_names)"
      ]
    },
    {
      "cell_type": "code",
      "execution_count": null,
      "metadata": {
        "id": "rvVKJN7mt-jJ"
      },
      "outputs": [],
      "source": [
        "clsname_to_index = dict((name,index) for index,name in enumerate(cls_names))"
      ]
    },
    {
      "cell_type": "code",
      "execution_count": null,
      "metadata": {
        "id": "ifX-tJemwMlx"
      },
      "outputs": [],
      "source": [
        "class ModelNetDataset(data.Dataset):\n",
        "  def __init__(self,\n",
        "               root,\n",
        "               classmap,\n",
        "               npoints = 9999,\n",
        "               split = \"train\",\n",
        "               data_augmentation = True\n",
        "               ):\n",
        "    self.classmap = classmap\n",
        "    self.npoints = npoints\n",
        "    self.root = root\n",
        "    self.split = split\n",
        "    self.data_augmentation = data_augmentation\n",
        "    self.point_paths = []\n",
        "    self.labels = []\n",
        "\n",
        "    list_file = None\n",
        "    if split == \"train\":\n",
        "      list_file = os.path.join(root,\"modelnet40_train.txt\")\n",
        "    else:\n",
        "      list_file = os.path.join(root,\"modelnet40_test.txt\")\n",
        "\n",
        "    # 提取对应的文件列表\n",
        "    files = []\n",
        "    if list_file != None:\n",
        "      with open(list_file, 'r',encoding=\"utf-8\") as f:\n",
        "        for line in f.readlines():\n",
        "          file_name = line.replace(\"\\n\",\"\")\n",
        "          files.append(file_name) \n",
        "    else:\n",
        "      print(\"ERROR:list file not exist!!!\")\n",
        "\n",
        "    paths = glob.glob(os.path.join(root,\"*/*.txt\"))\n",
        "    self.point_paths = [p for p in paths if p.split(\"/\")[5].replace(\".txt\",\"\") in files]\n",
        "    self.labels = [self.classmap.get(p.split(\"/\")[4]) for p in self.point_paths]\n",
        "\n",
        "  def __getitem__(self, index):\n",
        "\n",
        "    point_path = self.point_paths[index]\n",
        "    label = self.labels[index]\n",
        "    points = pd.read_csv(point_path).iloc[:,0:3]\n",
        "    points = np.asarray(points)\n",
        "\n",
        "\n",
        "    # 归一化\n",
        "    # points = points - np.expand_dims(np.mean(points,axis=0),0)\n",
        "    points = points - np.mean(points,axis=0)\n",
        "    dist = np.max(np.linalg.norm(points,axis=1))\n",
        "    points = points/dist\n",
        "\n",
        "    # 随机旋转角度和添加噪声\n",
        "    if (self.split == \"train\" and self.data_augmentation):\n",
        "      theta = np.random.uniform(0, np.pi * 2)\n",
        "      rotation_matrix = np.array([[np.cos(theta), -np.sin(theta)], [np.sin(theta), np.cos(theta)]])\n",
        "      points[:, [0, 2]] = rotation_matrix.dot(points[:, [0, 2]].T).T              # random rotation\n",
        "      points += np.random.normal(0, 0.02, (points.shape))                         # random jitter\n",
        "\n",
        "    np.random.shuffle(points)\n",
        "\n",
        "    points = torch.from_numpy(points.astype(np.float32))\n",
        "    label = torch.from_numpy(np.array([label]).astype(np.int64))\n",
        "\n",
        "    return points,label\n",
        "\n",
        "  def __len__(self):\n",
        "    return len(self.point_paths)\n",
        "\n"
      ]
    },
    {
      "cell_type": "code",
      "execution_count": null,
      "metadata": {},
      "outputs": [],
      "source": [
        "batch_size = 16"
      ]
    },
    {
      "cell_type": "code",
      "execution_count": null,
      "metadata": {
        "id": "S6yDEiAouQ8a"
      },
      "outputs": [],
      "source": [
        "traindatasets = ModelNetDataset(root,clsname_to_index,split=\"train\",data_augmentation=True)"
      ]
    },
    {
      "cell_type": "code",
      "execution_count": null,
      "metadata": {
        "id": "xOLLVznvzMZd"
      },
      "outputs": [],
      "source": [
        "train_dataloader = torch.utils.data.DataLoader(traindatasets,\n",
        "                                               batch_size = batch_size,\n",
        "                                               shuffle = True)"
      ]
    },
    {
      "cell_type": "code",
      "execution_count": null,
      "metadata": {
        "id": "F29sXCE96LdZ"
      },
      "outputs": [],
      "source": [
        "testdatasets = ModelNetDataset(root,clsname_to_index,split = \"test\",data_augmentation=False)"
      ]
    },
    {
      "cell_type": "code",
      "execution_count": null,
      "metadata": {
        "id": "eoAhAedl6VOp"
      },
      "outputs": [],
      "source": [
        "test_dataloader = torch.utils.data.DataLoader(testdatasets,\n",
        "                                               batch_size = batch_size,\n",
        "                                               shuffle = True)"
      ]
    },
    {
      "cell_type": "markdown",
      "metadata": {
        "id": "DJaB6yS47X3o"
      },
      "source": [
        "定义网络"
      ]
    },
    {
      "cell_type": "code",
      "execution_count": null,
      "metadata": {
        "id": "maBcb-f8C2Yi"
      },
      "outputs": [],
      "source": [
        "class STN3d(nn.Module): # 未保证旋转矩阵的特性\n",
        "  def __init__(self):\n",
        "    super(STN3d, self).__init__()\n",
        "    self.conv1 = torch.nn.Conv1d(3, 64, 1)\n",
        "    self.conv2 = torch.nn.Conv1d(64, 128, 1)\n",
        "    self.conv3 = torch.nn.Conv1d(128, 1024, 1)\n",
        "    self.fc1 = nn.Linear(1024, 512)\n",
        "    self.fc2 = nn.Linear(512, 256)\n",
        "    self.fc3 = nn.Linear(256, 9)\n",
        "    self.relu = nn.ReLU()\n",
        "\n",
        "    self.bn1 = nn.BatchNorm1d(64)\n",
        "    self.bn2 = nn.BatchNorm1d(128)\n",
        "    self.bn3 = nn.BatchNorm1d(1024)\n",
        "    self.bn4 = nn.BatchNorm1d(512)\n",
        "    self.bn5 = nn.BatchNorm1d(256)\n",
        "\n",
        "\n",
        "  def forward(self, x):\n",
        "    batchsize = x.size()[0]\n",
        "    x = F.relu(self.bn1(self.conv1(x)))\n",
        "    x = F.relu(self.bn2(self.conv2(x)))\n",
        "    x = F.relu(self.bn3(self.conv3(x)))\n",
        "    x = nn.MaxPool1d(x.size(-1))(x)\n",
        "    x = nn.Flatten(1)(x)\n",
        "\n",
        "    x = F.relu(self.bn4(self.fc1(x)))\n",
        "    x = F.relu(self.bn5(self.fc2(x)))\n",
        "    x = self.fc3(x)\n",
        "\n",
        "    iden = Variable(torch.from_numpy(np.array([1,0,0,0,1,0,0,0,1]).astype(np.float32))).view(1,9).repeat(batchsize,1)\n",
        "    if x.is_cuda:\n",
        "      iden = iden.cuda()\n",
        "    x = x + iden\n",
        "    x = x.view(-1, 3, 3)\n",
        "    return x"
      ]
    },
    {
      "cell_type": "code",
      "execution_count": null,
      "metadata": {
        "id": "K0hoHJXB7rWS"
      },
      "outputs": [],
      "source": [
        "class PointNetfeat(nn.Module):\n",
        "  def __init__(self):\n",
        "    super(PointNetfeat, self).__init__()\n",
        "    self.stn = STN3d()\n",
        "    self.conv1 = torch.nn.Conv1d(3, 64, 1)\n",
        "    self.conv2 = torch.nn.Conv1d(64, 128, 1)\n",
        "    self.conv3 = torch.nn.Conv1d(128, 1024, 1)\n",
        "    self.bn1 = nn.BatchNorm1d(64)\n",
        "    self.bn2 = nn.BatchNorm1d(128)\n",
        "    self.bn3 = nn.BatchNorm1d(1024)\n",
        "\n",
        "  def forward(self, x):\n",
        "    # trans = self.stn(x)\n",
        "    # x = x.transpose(2, 1)\n",
        "    # x = torch.bmm(x, trans)\n",
        "    # x = x.transpose(2, 1)\n",
        "    x = F.relu(self.bn1(self.conv1(x)))\n",
        "    x = F.relu(self.bn2(self.conv2(x)))\n",
        "    x = self.bn3(self.conv3(x))\n",
        "    x = nn.MaxPool1d(x.size(-1))(x)\n",
        "    x = nn.Flatten(1)(x)\n",
        "      \n",
        "    return x"
      ]
    },
    {
      "cell_type": "code",
      "execution_count": null,
      "metadata": {
        "id": "cXk5Cw8LzZ0P"
      },
      "outputs": [],
      "source": [
        "class PointNetCls(nn.Module):\n",
        "  def __init__(self, k=40):\n",
        "    super(PointNetCls, self).__init__()\n",
        "    self.feat = PointNetfeat()\n",
        "    self.fc1 = nn.Linear(1024, 512)\n",
        "    self.fc2 = nn.Linear(512, 256)\n",
        "    self.fc3 = nn.Linear(256, k)\n",
        "    self.dropout = nn.Dropout(p=0.3)\n",
        "    self.bn1 = nn.BatchNorm1d(512)\n",
        "    self.bn2 = nn.BatchNorm1d(256)\n",
        "\n",
        "  def forward(self, x):\n",
        "    x = self.feat(x)\n",
        "    x = F.relu(self.bn1(self.fc1(x)))\n",
        "    x = F.relu(self.bn2(self.dropout(self.fc2(x))))\n",
        "    x = self.fc3(x)\n",
        "    return F.log_softmax(x, dim=1)"
      ]
    },
    {
      "cell_type": "code",
      "execution_count": null,
      "metadata": {
        "id": "ydZuur7n_dCQ"
      },
      "outputs": [],
      "source": [
        "classifier = PointNetCls(k=40)"
      ]
    },
    {
      "cell_type": "code",
      "execution_count": null,
      "metadata": {
        "colab": {
          "base_uri": "https://localhost:8080/",
          "height": 0
        },
        "id": "salKj4ZHKLMO",
        "outputId": "90331fe7-a94a-4e77-d6ac-b322b557e447"
      },
      "outputs": [],
      "source": [
        "classifier.cuda()"
      ]
    },
    {
      "cell_type": "code",
      "execution_count": null,
      "metadata": {
        "colab": {
          "base_uri": "https://localhost:8080/",
          "height": 0
        },
        "id": "0l2hUvHRHuoE",
        "outputId": "8a987602-3da1-4424-d111-8fff8d2a09f8"
      },
      "outputs": [],
      "source": [
        "summary(classifier,(3,9999))"
      ]
    },
    {
      "cell_type": "code",
      "execution_count": null,
      "metadata": {
        "id": "PVzVPbgnAY1J"
      },
      "outputs": [],
      "source": [
        "optimizer = optim.Adam(classifier.parameters(), lr=0.001)"
      ]
    },
    {
      "cell_type": "code",
      "execution_count": null,
      "metadata": {
        "id": "5uxY8mdmKrK8"
      },
      "outputs": [],
      "source": [
        "num_batch = len(traindatasets) / batch_size"
      ]
    },
    {
      "cell_type": "code",
      "execution_count": null,
      "metadata": {
        "id": "uoIwzj1IltiA"
      },
      "outputs": [],
      "source": [
        "blue = lambda x: '\\033[94m' + x + '\\033[0m'"
      ]
    },
    {
      "cell_type": "code",
      "execution_count": null,
      "metadata": {
        "colab": {
          "base_uri": "https://localhost:8080/",
          "height": 0
        },
        "id": "hXmulG7TBRKf",
        "outputId": "55d33e2f-3eb8-4ca4-8a71-64c51928b739"
      },
      "outputs": [],
      "source": [
        "for epoch in range(15):\n",
        "  classifier = classifier.train()\n",
        "  running_loss = 0.0\n",
        "  for i, data in enumerate(train_dataloader, 0):\n",
        "\n",
        "    points, target = data\n",
        "    target = target[:, 0]\n",
        "    points = points.transpose(2, 1)\n",
        "    points, target = points.cuda(), target.cuda()\n",
        "\n",
        "    optimizer.zero_grad()\n",
        "    pred = classifier(points)\n",
        "\n",
        "    loss = F.nll_loss(pred, target)\n",
        "    loss.backward()\n",
        "    optimizer.step()\n",
        "\n",
        "    running_loss += loss.item()\n",
        "\n",
        "    if i % 10 == 9:\n",
        "      print('[Epoch: %d, Batch: %4d / %4d], loss: %.3f' %\n",
        "                        (epoch + 1, i + 1, len(train_dataloader), running_loss / 10))\n",
        "      running_loss = 0.0\n",
        "  \n",
        "  classifier = classifier.eval()\n",
        "  correct = total = 0\n",
        "\n",
        "  with torch.no_grad():\n",
        "    for data in test_dataloader:\n",
        "      points, target = data\n",
        "      target = target[:, 0]\n",
        "      points = points.transpose(2, 1)\n",
        "      points, target = points.cuda(), target.cuda()\n",
        "      pred = classifier(points)\n",
        "      loss = F.nll_loss(pred, target)\n",
        "      pred_choice = pred.data.max(1)[1]\n",
        "      correct += pred_choice.eq(target.data).cpu().sum()\n",
        "      total += target.data.size(0)\n",
        "\n",
        "  val_acc = 100. * correct / total\n",
        "  print('Valid accuracy: %d %%' % val_acc)\n"
      ]
    },
    {
      "cell_type": "code",
      "execution_count": null,
      "metadata": {
        "colab": {
          "base_uri": "https://localhost:8080/",
          "height": 0
        },
        "id": "oSCMYZfyWOAb",
        "outputId": "5cb24bc9-d8ee-4604-8d2a-c63298df8b96"
      },
      "outputs": [],
      "source": [
        "total_correct = 0\n",
        "total_testset = 0\n",
        "for i,data in tqdm(enumerate(test_dataloader, 0)):\n",
        "  points, target = data\n",
        "  target = target[:, 0]\n",
        "  points = points.transpose(2, 1)\n",
        "  points, target = points.cuda(), target.cuda()\n",
        "  classifier = classifier.eval()\n",
        "  pred = classifier(points)\n",
        "  pred_choice = pred.data.max(1)[1]\n",
        "  correct = pred_choice.eq(target.data).cpu().sum()\n",
        "  total_correct += correct.item()\n",
        "  total_testset += points.size()[0]\n"
      ]
    },
    {
      "cell_type": "code",
      "execution_count": null,
      "metadata": {
        "colab": {
          "base_uri": "https://localhost:8080/",
          "height": 0
        },
        "id": "9Upz_hAWIP95",
        "outputId": "1d3ff5ec-ebf0-487f-80cf-b60206f678df"
      },
      "outputs": [],
      "source": [
        "print(\"final accuracy {}\".format(total_correct / float(total_testset)))"
      ]
    }
  ],
  "metadata": {
    "accelerator": "GPU",
    "colab": {
      "collapsed_sections": [],
      "name": "pointnet(pytorch)",
      "provenance": []
    },
    "kernelspec": {
      "display_name": "Python 3",
      "name": "python3"
    },
    "language_info": {
      "codemirror_mode": {
        "name": "ipython",
        "version": 3
      },
      "file_extension": ".py",
      "mimetype": "text/x-python",
      "name": "python",
      "nbconvert_exporter": "python",
      "pygments_lexer": "ipython3",
      "version": "3.8.12"
    }
  },
  "nbformat": 4,
  "nbformat_minor": 0
}
