{
  "cells": [
    {
      "cell_type": "code",
      "execution_count": 9,
      "metadata": {
        "colab": {
          "base_uri": "https://localhost:8080/",
          "height": 0
        },
        "id": "qADOBxU-r0TB",
        "outputId": "0a6e2a39-758b-4b2e-c11e-2da74724b6ff"
      },
      "outputs": [
        {
          "name": "stdout",
          "output_type": "stream",
          "text": [
            "Fri Feb 18 17:25:01 2022       \n",
            "+-----------------------------------------------------------------------------+\n",
            "| NVIDIA-SMI 470.103.01   Driver Version: 470.103.01   CUDA Version: 11.4     |\n",
            "|-------------------------------+----------------------+----------------------+\n",
            "| GPU  Name        Persistence-M| Bus-Id        Disp.A | Volatile Uncorr. ECC |\n",
            "| Fan  Temp  Perf  Pwr:Usage/Cap|         Memory-Usage | GPU-Util  Compute M. |\n",
            "|                               |                      |               MIG M. |\n",
            "|===============================+======================+======================|\n",
            "|   0  NVIDIA GeForce ...  Off  | 00000000:01:00.0 Off |                  N/A |\n",
            "| N/A   61C    P0    29W /  N/A |    865MiB /  5934MiB |     28%      Default |\n",
            "|                               |                      |                  N/A |\n",
            "+-------------------------------+----------------------+----------------------+\n",
            "                                                                               \n",
            "+-----------------------------------------------------------------------------+\n",
            "| Processes:                                                                  |\n",
            "|  GPU   GI   CI        PID   Type   Process name                  GPU Memory |\n",
            "|        ID   ID                                                   Usage      |\n",
            "|=============================================================================|\n",
            "+-----------------------------------------------------------------------------+\n"
          ]
        }
      ],
      "source": [
        "gpu_info = !nvidia-smi\n",
        "gpu_info = '\\n'.join(gpu_info)\n",
        "if gpu_info.find('failed') >= 0:\n",
        "  print('Select the Runtime > \"Change runtime type\" menu to enable a GPU accelerator, ')\n",
        "  print('and then re-execute this cell.')\n",
        "else:\n",
        "  print(gpu_info)"
      ]
    },
    {
      "cell_type": "markdown",
      "metadata": {
        "id": "f5KSeAvVsXKU"
      },
      "source": [
        "导入相关库"
      ]
    },
    {
      "cell_type": "code",
      "execution_count": 10,
      "metadata": {
        "id": "7Q3cUTVTsca8"
      },
      "outputs": [],
      "source": [
        "import  torch.utils.data as data\n",
        "import os\n",
        "import torch\n",
        "import numpy as np\n",
        "import glob\n",
        "import pandas as pd\n",
        "import torch.nn.functional as F\n",
        "from torch import nn\n",
        "import torch.optim as optim\n",
        "from tqdm import  tqdm\n",
        "from torchsummary import summary\n",
        "from torch.autograd import Variable"
      ]
    },
    {
      "cell_type": "markdown",
      "metadata": {
        "id": "kaLU-cXa7QRc"
      },
      "source": [
        "制作数据载入器"
      ]
    },
    {
      "cell_type": "code",
      "execution_count": 16,
      "metadata": {
        "id": "zeVThofztHrf"
      },
      "outputs": [],
      "source": [
        "root = \"/workspace/Data/modelnet40_normal_resampled\"\n",
        "npoints = 9999\n",
        "split = \"train\"\n",
        "data_augmentation = True"
      ]
    },
    {
      "cell_type": "code",
      "execution_count": 17,
      "metadata": {
        "id": "m7hRquCvt24v"
      },
      "outputs": [],
      "source": [
        "cls_names = glob.glob(os.path.join(root,\"*/*.txt\"))\n",
        "cls_names = [p.split(\"/\")[4] for p in cls_names]\n",
        "cls_names = np.unique(cls_names)"
      ]
    },
    {
      "cell_type": "code",
      "execution_count": 18,
      "metadata": {
        "id": "rvVKJN7mt-jJ"
      },
      "outputs": [],
      "source": [
        "clsname_to_index = dict((name,index) for index,name in enumerate(cls_names))"
      ]
    },
    {
      "cell_type": "code",
      "execution_count": 21,
      "metadata": {
        "id": "ifX-tJemwMlx"
      },
      "outputs": [],
      "source": [
        "class ModelNetDataset(data.Dataset):\n",
        "  def __init__(self,\n",
        "               root,\n",
        "               classmap,\n",
        "               npoints = 9999,\n",
        "               split = \"train\",\n",
        "               data_augmentation = True\n",
        "               ):\n",
        "    self.classmap = classmap\n",
        "    self.npoints = npoints\n",
        "    self.root = root\n",
        "    self.split = split\n",
        "    self.data_augmentation = data_augmentation\n",
        "    self.point_paths = []\n",
        "    self.labels = []\n",
        "\n",
        "    list_file = None\n",
        "    if split == \"train\":\n",
        "      list_file = os.path.join(root,\"modelnet40_train.txt\")\n",
        "    else:\n",
        "      list_file = os.path.join(root,\"modelnet40_test.txt\")\n",
        "\n",
        "    # 提取对应的文件列表\n",
        "    files = []\n",
        "    if list_file != None:\n",
        "      with open(list_file, 'r',encoding=\"utf-8\") as f:\n",
        "        for line in f.readlines():\n",
        "          file_name = line.replace(\"\\n\",\"\")\n",
        "          files.append(file_name) \n",
        "    else:\n",
        "      print(\"ERROR:list file not exist!!!\")\n",
        "\n",
        "    #print(files)\n",
        "\n",
        "    paths = glob.glob(os.path.join(root,\"*/*.txt\"))\n",
        "    self.point_paths = [p for p in paths if p.split(\"/\")[5].replace(\".txt\",\"\") in files]\n",
        "    self.labels = [self.classmap.get(p.split(\"/\")[4]) for p in self.point_paths]\n",
        "\n",
        "  def __getitem__(self, index):\n",
        "    point_path = self.point_paths[index]\n",
        "    label = self.labels[index]\n",
        "    points = pd.read_csv(point_path).iloc[:,0:3]\n",
        "    points = np.asarray(points)\n",
        "\n",
        "    # 归一化\n",
        "    points = points - np.expand_dims(np.mean(points,axis=0),0)\n",
        "    dist = np.max(np.sqrt(np.sum(points **2,axis=1)),0)\n",
        "    points = points/dist\n",
        "\n",
        "    # 随机旋转角度和添加噪声\n",
        "    if (self.split == \"train\" and self.data_augmentation):\n",
        "      theta = np.random.uniform(0, np.pi * 2)\n",
        "      rotation_matrix = np.array([[np.cos(theta), -np.sin(theta)], [np.sin(theta), np.cos(theta)]])\n",
        "      points[:, [0, 2]] = points[:, [0, 2]].dot(rotation_matrix)  # random rotation\n",
        "      points += np.random.normal(0, 0.02, size=points.shape)  # random jitter\n",
        "\n",
        "    points = torch.from_numpy(points.astype(np.float32))\n",
        "    label = torch.from_numpy(np.array([label]).astype(np.int64))\n",
        "\n",
        "    return points,label\n",
        "\n",
        "  def __len__(self):\n",
        "    return len(self.point_paths)\n",
        "\n"
      ]
    },
    {
      "cell_type": "code",
      "execution_count": 22,
      "metadata": {
        "id": "S6yDEiAouQ8a"
      },
      "outputs": [],
      "source": [
        "traindatasets = ModelNetDataset(root,clsname_to_index,data_augmentation=False)"
      ]
    },
    {
      "cell_type": "code",
      "execution_count": 23,
      "metadata": {
        "id": "xOLLVznvzMZd"
      },
      "outputs": [],
      "source": [
        "train_dataloader = torch.utils.data.DataLoader(traindatasets,\n",
        "                                               batch_size = 8,\n",
        "                                               shuffle = True)"
      ]
    },
    {
      "cell_type": "code",
      "execution_count": 24,
      "metadata": {
        "id": "F29sXCE96LdZ"
      },
      "outputs": [],
      "source": [
        "testdatasets = ModelNetDataset(root,clsname_to_index,split = \"test\",data_augmentation=False)"
      ]
    },
    {
      "cell_type": "code",
      "execution_count": 25,
      "metadata": {
        "id": "eoAhAedl6VOp"
      },
      "outputs": [],
      "source": [
        "test_dataloader = torch.utils.data.DataLoader(testdatasets,\n",
        "                                               batch_size = 8,\n",
        "                                               shuffle = True)"
      ]
    },
    {
      "cell_type": "markdown",
      "metadata": {
        "id": "DJaB6yS47X3o"
      },
      "source": [
        "定义网络"
      ]
    },
    {
      "cell_type": "code",
      "execution_count": 26,
      "metadata": {
        "id": "maBcb-f8C2Yi"
      },
      "outputs": [],
      "source": [
        "class STN3d(nn.Module): # 未保证旋转矩阵的特性\n",
        "  def __init__(self):\n",
        "    super(STN3d, self).__init__()\n",
        "    self.conv1 = torch.nn.Conv1d(3, 64, 1)\n",
        "    self.conv2 = torch.nn.Conv1d(64, 128, 1)\n",
        "    self.conv3 = torch.nn.Conv1d(128, 1024, 1)\n",
        "    self.fc1 = nn.Linear(1024, 512)\n",
        "    self.fc2 = nn.Linear(512, 256)\n",
        "    self.fc3 = nn.Linear(256, 9)\n",
        "    self.relu = nn.ReLU()\n",
        "\n",
        "    self.bn1 = nn.BatchNorm1d(64)\n",
        "    self.bn2 = nn.BatchNorm1d(128)\n",
        "    self.bn3 = nn.BatchNorm1d(1024)\n",
        "    self.bn4 = nn.BatchNorm1d(512)\n",
        "    self.bn5 = nn.BatchNorm1d(256)\n",
        "\n",
        "\n",
        "  def forward(self, x):\n",
        "    batchsize = x.size()[0]\n",
        "    x = F.relu(self.bn1(self.conv1(x)))\n",
        "    x = F.relu(self.bn2(self.conv2(x)))\n",
        "    x = F.relu(self.bn3(self.conv3(x)))\n",
        "    x = torch.max(x, 2, keepdim=True)[0]\n",
        "    x = x.view(-1, 1024)\n",
        "\n",
        "    x = F.relu(self.bn4(self.fc1(x)))\n",
        "    x = F.relu(self.bn5(self.fc2(x)))\n",
        "    x = self.fc3(x)\n",
        "\n",
        "    iden = Variable(torch.from_numpy(np.array([1,0,0,0,1,0,0,0,1]).astype(np.float32))).view(1,9).repeat(batchsize,1)\n",
        "    if x.is_cuda:\n",
        "      iden = iden.cuda()\n",
        "    x = x + iden\n",
        "    x = x.view(-1, 3, 3)\n",
        "    return x"
      ]
    },
    {
      "cell_type": "code",
      "execution_count": 27,
      "metadata": {
        "id": "K0hoHJXB7rWS"
      },
      "outputs": [],
      "source": [
        "class PointNetfeat(nn.Module):\n",
        "  def __init__(self):\n",
        "    super(PointNetfeat, self).__init__()\n",
        "    self.stn = STN3d()\n",
        "    self.conv1 = torch.nn.Conv1d(3, 64, 1)\n",
        "    self.conv2 = torch.nn.Conv1d(64, 128, 1)\n",
        "    self.conv3 = torch.nn.Conv1d(128, 1024, 1)\n",
        "    self.bn1 = nn.BatchNorm1d(64)\n",
        "    self.bn2 = nn.BatchNorm1d(128)\n",
        "    self.bn3 = nn.BatchNorm1d(1024)\n",
        "\n",
        "  def forward(self, x):\n",
        "    trans = self.stn(x)\n",
        "    x = x.transpose(2, 1)\n",
        "    x = torch.bmm(x, trans)\n",
        "    x = x.transpose(2, 1)\n",
        "    x = F.relu(self.bn1(self.conv1(x)))\n",
        "\n",
        "    x = F.relu(self.bn2(self.conv2(x)))\n",
        "    x = self.bn3(self.conv3(x))\n",
        "    x = torch.max(x, 2, keepdim=True)[0]\n",
        "    x = x.view(-1, 1024)\n",
        "      \n",
        "    return x"
      ]
    },
    {
      "cell_type": "code",
      "execution_count": 28,
      "metadata": {
        "id": "cXk5Cw8LzZ0P"
      },
      "outputs": [],
      "source": [
        "class PointNetCls(nn.Module):\n",
        "  def __init__(self, k=40):\n",
        "    super(PointNetCls, self).__init__()\n",
        "    self.feat = PointNetfeat()\n",
        "    self.fc1 = nn.Linear(1024, 512)\n",
        "    self.fc2 = nn.Linear(512, 256)\n",
        "    self.fc3 = nn.Linear(256, k)\n",
        "    self.dropout = nn.Dropout(p=0.3)\n",
        "    self.bn1 = nn.BatchNorm1d(512,momentum=1.0)\n",
        "    self.bn2 = nn.BatchNorm1d(256,momentum=1.0)\n",
        "    self.relu = nn.ReLU()\n",
        "\n",
        "  def forward(self, x):\n",
        "    x = self.feat(x)\n",
        "    x = F.relu(self.bn1(self.fc1(x)))\n",
        "    x = F.relu(self.bn2(self.dropout(self.fc2(x))))\n",
        "    x = self.fc3(x)\n",
        "    return F.log_softmax(x, dim=1)"
      ]
    },
    {
      "cell_type": "code",
      "execution_count": 29,
      "metadata": {
        "id": "ydZuur7n_dCQ"
      },
      "outputs": [],
      "source": [
        "classifier = PointNetCls(k=40)"
      ]
    },
    {
      "cell_type": "code",
      "execution_count": 30,
      "metadata": {
        "colab": {
          "base_uri": "https://localhost:8080/",
          "height": 0
        },
        "id": "salKj4ZHKLMO",
        "outputId": "90331fe7-a94a-4e77-d6ac-b322b557e447"
      },
      "outputs": [
        {
          "data": {
            "text/plain": [
              "PointNetCls(\n",
              "  (feat): PointNetfeat(\n",
              "    (stn): STN3d(\n",
              "      (conv1): Conv1d(3, 64, kernel_size=(1,), stride=(1,))\n",
              "      (conv2): Conv1d(64, 128, kernel_size=(1,), stride=(1,))\n",
              "      (conv3): Conv1d(128, 1024, kernel_size=(1,), stride=(1,))\n",
              "      (fc1): Linear(in_features=1024, out_features=512, bias=True)\n",
              "      (fc2): Linear(in_features=512, out_features=256, bias=True)\n",
              "      (fc3): Linear(in_features=256, out_features=9, bias=True)\n",
              "      (relu): ReLU()\n",
              "      (bn1): BatchNorm1d(64, eps=1e-05, momentum=0.1, affine=True, track_running_stats=True)\n",
              "      (bn2): BatchNorm1d(128, eps=1e-05, momentum=0.1, affine=True, track_running_stats=True)\n",
              "      (bn3): BatchNorm1d(1024, eps=1e-05, momentum=0.1, affine=True, track_running_stats=True)\n",
              "      (bn4): BatchNorm1d(512, eps=1e-05, momentum=0.1, affine=True, track_running_stats=True)\n",
              "      (bn5): BatchNorm1d(256, eps=1e-05, momentum=0.1, affine=True, track_running_stats=True)\n",
              "    )\n",
              "    (conv1): Conv1d(3, 64, kernel_size=(1,), stride=(1,))\n",
              "    (conv2): Conv1d(64, 128, kernel_size=(1,), stride=(1,))\n",
              "    (conv3): Conv1d(128, 1024, kernel_size=(1,), stride=(1,))\n",
              "    (bn1): BatchNorm1d(64, eps=1e-05, momentum=0.1, affine=True, track_running_stats=True)\n",
              "    (bn2): BatchNorm1d(128, eps=1e-05, momentum=0.1, affine=True, track_running_stats=True)\n",
              "    (bn3): BatchNorm1d(1024, eps=1e-05, momentum=0.1, affine=True, track_running_stats=True)\n",
              "  )\n",
              "  (fc1): Linear(in_features=1024, out_features=512, bias=True)\n",
              "  (fc2): Linear(in_features=512, out_features=256, bias=True)\n",
              "  (fc3): Linear(in_features=256, out_features=40, bias=True)\n",
              "  (dropout): Dropout(p=0.3, inplace=False)\n",
              "  (bn1): BatchNorm1d(512, eps=1e-05, momentum=1.0, affine=True, track_running_stats=True)\n",
              "  (bn2): BatchNorm1d(256, eps=1e-05, momentum=1.0, affine=True, track_running_stats=True)\n",
              "  (relu): ReLU()\n",
              ")"
            ]
          },
          "execution_count": 30,
          "metadata": {},
          "output_type": "execute_result"
        }
      ],
      "source": [
        "classifier.cuda()"
      ]
    },
    {
      "cell_type": "code",
      "execution_count": 31,
      "metadata": {
        "colab": {
          "base_uri": "https://localhost:8080/",
          "height": 0
        },
        "id": "0l2hUvHRHuoE",
        "outputId": "8a987602-3da1-4424-d111-8fff8d2a09f8"
      },
      "outputs": [
        {
          "name": "stdout",
          "output_type": "stream",
          "text": [
            "----------------------------------------------------------------\n",
            "        Layer (type)               Output Shape         Param #\n",
            "================================================================\n",
            "            Conv1d-1             [-1, 64, 9999]             256\n",
            "       BatchNorm1d-2             [-1, 64, 9999]             128\n",
            "            Conv1d-3            [-1, 128, 9999]           8,320\n",
            "       BatchNorm1d-4            [-1, 128, 9999]             256\n",
            "            Conv1d-5           [-1, 1024, 9999]         132,096\n",
            "       BatchNorm1d-6           [-1, 1024, 9999]           2,048\n",
            "            Linear-7                  [-1, 512]         524,800\n",
            "       BatchNorm1d-8                  [-1, 512]           1,024\n",
            "            Linear-9                  [-1, 256]         131,328\n",
            "      BatchNorm1d-10                  [-1, 256]             512\n",
            "           Linear-11                    [-1, 9]           2,313\n",
            "            STN3d-12                 [-1, 3, 3]               0\n",
            "           Conv1d-13             [-1, 64, 9999]             256\n",
            "      BatchNorm1d-14             [-1, 64, 9999]             128\n",
            "           Conv1d-15            [-1, 128, 9999]           8,320\n",
            "      BatchNorm1d-16            [-1, 128, 9999]             256\n",
            "           Conv1d-17           [-1, 1024, 9999]         132,096\n",
            "      BatchNorm1d-18           [-1, 1024, 9999]           2,048\n",
            "     PointNetfeat-19                 [-1, 1024]               0\n",
            "           Linear-20                  [-1, 512]         524,800\n",
            "      BatchNorm1d-21                  [-1, 512]           1,024\n",
            "           Linear-22                  [-1, 256]         131,328\n",
            "          Dropout-23                  [-1, 256]               0\n",
            "      BatchNorm1d-24                  [-1, 256]             512\n",
            "           Linear-25                   [-1, 40]          10,280\n",
            "================================================================\n",
            "Total params: 1,614,129\n",
            "Trainable params: 1,614,129\n",
            "Non-trainable params: 0\n",
            "----------------------------------------------------------------\n",
            "Input size (MB): 0.11\n",
            "Forward/backward pass size (MB): 371.09\n",
            "Params size (MB): 6.16\n",
            "Estimated Total Size (MB): 377.36\n",
            "----------------------------------------------------------------\n"
          ]
        }
      ],
      "source": [
        "summary(classifier,(3,9999))"
      ]
    },
    {
      "cell_type": "code",
      "execution_count": 32,
      "metadata": {
        "id": "PVzVPbgnAY1J"
      },
      "outputs": [],
      "source": [
        "optimizer = optim.Adam(classifier.parameters(), lr=0.001, betas=(0.9, 0.999))\n",
        "scheduler = optim.lr_scheduler.StepLR(optimizer, step_size=20, gamma=0.5)"
      ]
    },
    {
      "cell_type": "code",
      "execution_count": 33,
      "metadata": {
        "id": "5uxY8mdmKrK8"
      },
      "outputs": [],
      "source": [
        "num_batch = len(traindatasets) / 8"
      ]
    },
    {
      "cell_type": "code",
      "execution_count": 34,
      "metadata": {
        "id": "uoIwzj1IltiA"
      },
      "outputs": [],
      "source": [
        "blue = lambda x: '\\033[94m' + x + '\\033[0m'"
      ]
    },
    {
      "cell_type": "code",
      "execution_count": null,
      "metadata": {
        "colab": {
          "base_uri": "https://localhost:8080/",
          "height": 0
        },
        "id": "hXmulG7TBRKf",
        "outputId": "55d33e2f-3eb8-4ca4-8a71-64c51928b739"
      },
      "outputs": [],
      "source": [
        "for epoch in range(15):\n",
        "  scheduler.step()\n",
        "  for i, data in enumerate(train_dataloader, 0):\n",
        "    points, target = data\n",
        "    target = target[:, 0]\n",
        "    points = points.transpose(2, 1)\n",
        "    points, target = points.cuda(), target.cuda()\n",
        "    classifier = classifier.train()\n",
        "    optimizer.zero_grad()\n",
        "    pred = classifier(points)\n",
        "    loss = F.nll_loss(pred, target)\n",
        "    loss.backward()\n",
        "    optimizer.step()\n",
        "    pred_choice = pred.data.max(1)[1]\n",
        "    correct = pred_choice.eq(target.data).cpu().sum()\n",
        "    print('[%d: %d/%d] train loss: %f accuracy: %f' % (epoch, i, num_batch, loss.item(), correct.item() / float(8)))\n",
        "\n",
        "    if i % 10 == 0:\n",
        "      j, data = next(enumerate(train_dataloader, 0))\n",
        "      points, target = data\n",
        "      target = target[:, 0]\n",
        "      points = points.transpose(2, 1)\n",
        "      points, target = points.cuda(), target.cuda()\n",
        "      classifier = classifier.eval()\n",
        "      pred = classifier(points)\n",
        "      loss = F.nll_loss(pred, target)\n",
        "      pred_choice = pred.data.max(1)[1]\n",
        "      correct = pred_choice.eq(target.data).cpu().sum()\n",
        "      print('[%d: %d/%d] %s loss: %f accuracy: %f' % (epoch, i, num_batch, blue('test'), loss.item(), correct.item()/float(8)))\n"
      ]
    },
    {
      "cell_type": "code",
      "execution_count": 39,
      "metadata": {
        "colab": {
          "base_uri": "https://localhost:8080/",
          "height": 0
        },
        "id": "oSCMYZfyWOAb",
        "outputId": "5cb24bc9-d8ee-4604-8d2a-c63298df8b96"
      },
      "outputs": [
        {
          "name": "stderr",
          "output_type": "stream",
          "text": [
            "309it [00:27, 11.27it/s]\n"
          ]
        }
      ],
      "source": [
        "total_correct = 0\n",
        "total_testset = 0\n",
        "for i,data in tqdm(enumerate(test_dataloader, 0)):\n",
        "  points, target = data\n",
        "  target = target[:, 0]\n",
        "  points = points.transpose(2, 1)\n",
        "  points, target = points.cuda(), target.cuda()\n",
        "  classifier = classifier.eval()\n",
        "  pred = classifier(points)\n",
        "  pred_choice = pred.data.max(1)[1]\n",
        "  correct = pred_choice.eq(target.data).cpu().sum()\n",
        "  total_correct += correct.item()\n",
        "  total_testset += points.size()[0]\n"
      ]
    },
    {
      "cell_type": "code",
      "execution_count": 40,
      "metadata": {
        "colab": {
          "base_uri": "https://localhost:8080/",
          "height": 0
        },
        "id": "9Upz_hAWIP95",
        "outputId": "1d3ff5ec-ebf0-487f-80cf-b60206f678df"
      },
      "outputs": [
        {
          "name": "stdout",
          "output_type": "stream",
          "text": [
            "final accuracy 0.836709886547812\n"
          ]
        }
      ],
      "source": [
        "print(\"final accuracy {}\".format(total_correct / float(total_testset)))"
      ]
    }
  ],
  "metadata": {
    "accelerator": "GPU",
    "colab": {
      "collapsed_sections": [],
      "name": "pointnet(pytorch)",
      "provenance": []
    },
    "kernelspec": {
      "display_name": "Python 3",
      "name": "python3"
    },
    "language_info": {
      "codemirror_mode": {
        "name": "ipython",
        "version": 3
      },
      "file_extension": ".py",
      "mimetype": "text/x-python",
      "name": "python",
      "nbconvert_exporter": "python",
      "pygments_lexer": "ipython3",
      "version": "3.8.12"
    }
  },
  "nbformat": 4,
  "nbformat_minor": 0
}
