{
 "cells": [
  {
   "cell_type": "code",
   "execution_count": 13,
   "metadata": {},
   "outputs": [],
   "source": [
    "import os\n",
    "import glob\n",
    "import pandas as pd\n",
    "import random\n",
    "import numpy as np"
   ]
  },
  {
   "cell_type": "code",
   "execution_count": 14,
   "metadata": {},
   "outputs": [],
   "source": [
    "truth_paths = glob.glob(\"data/object/label_2/*.txt\")"
   ]
  },
  {
   "cell_type": "code",
   "execution_count": 15,
   "metadata": {},
   "outputs": [
    {
     "ename": "FileExistsError",
     "evalue": "[Errno 17] File exists: 'results/result_sha/data'",
     "output_type": "error",
     "traceback": [
      "\u001b[0;31m---------------------------------------------------------------------------\u001b[0m",
      "\u001b[0;31mFileExistsError\u001b[0m                           Traceback (most recent call last)",
      "\u001b[1;32m/workspace/Point-cloud-process-shenlan/06-3D Object Detection/code/generate_result.ipynb Cell 3'\u001b[0m in \u001b[0;36m<module>\u001b[0;34m\u001b[0m\n\u001b[0;32m----> <a href='vscode-notebook-cell://attached-container%2B7b22636f6e7461696e65724e616d65223a222f616666656374696f6e6174655f73686f636b6c6579227d/workspace/Point-cloud-process-shenlan/06-3D%20Object%20Detection/code/generate_result.ipynb#ch0000002vscode-remote?line=0'>1</a>\u001b[0m os\u001b[39m.\u001b[39;49mmakedirs(\u001b[39m\"\u001b[39;49m\u001b[39mresults/result_sha/data\u001b[39;49m\u001b[39m\"\u001b[39;49m)\n",
      "File \u001b[0;32m~/miniconda3/envs/Point-cloud-process/lib/python3.8/os.py:223\u001b[0m, in \u001b[0;36mmakedirs\u001b[0;34m(name, mode, exist_ok)\u001b[0m\n\u001b[1;32m    <a href='file:///~/miniconda3/envs/Point-cloud-process/lib/python3.8/os.py?line=220'>221</a>\u001b[0m         \u001b[39mreturn\u001b[39;00m\n\u001b[1;32m    <a href='file:///~/miniconda3/envs/Point-cloud-process/lib/python3.8/os.py?line=221'>222</a>\u001b[0m \u001b[39mtry\u001b[39;00m:\n\u001b[0;32m--> <a href='file:///~/miniconda3/envs/Point-cloud-process/lib/python3.8/os.py?line=222'>223</a>\u001b[0m     mkdir(name, mode)\n\u001b[1;32m    <a href='file:///~/miniconda3/envs/Point-cloud-process/lib/python3.8/os.py?line=223'>224</a>\u001b[0m \u001b[39mexcept\u001b[39;00m \u001b[39mOSError\u001b[39;00m:\n\u001b[1;32m    <a href='file:///~/miniconda3/envs/Point-cloud-process/lib/python3.8/os.py?line=224'>225</a>\u001b[0m     \u001b[39m# Cannot rely on checking for EEXIST, since the operating system\u001b[39;00m\n\u001b[1;32m    <a href='file:///~/miniconda3/envs/Point-cloud-process/lib/python3.8/os.py?line=225'>226</a>\u001b[0m     \u001b[39m# could give priority to other errors like EACCES or EROFS\u001b[39;00m\n\u001b[1;32m    <a href='file:///~/miniconda3/envs/Point-cloud-process/lib/python3.8/os.py?line=226'>227</a>\u001b[0m     \u001b[39mif\u001b[39;00m \u001b[39mnot\u001b[39;00m exist_ok \u001b[39mor\u001b[39;00m \u001b[39mnot\u001b[39;00m path\u001b[39m.\u001b[39misdir(name):\n",
      "\u001b[0;31mFileExistsError\u001b[0m: [Errno 17] File exists: 'results/result_sha/data'"
     ]
    }
   ],
   "source": [
    "os.makedirs(\"results/result_sha/data\")"
   ]
  },
  {
   "cell_type": "code",
   "execution_count": null,
   "metadata": {},
   "outputs": [],
   "source": [
    "for path in truth_paths:\n",
    "    data = pd.read_csv(path,sep = \" \",header = None)\n",
    "    data.columns = [\"type\",\n",
    "               \"truncated\",\n",
    "               \"occluded\",\n",
    "               \"alpha\",\n",
    "               \"bbox_left\",\"bbox_top\",\"bbox_right\",\"bottom\",\n",
    "                \"height\",\"width\",\"length\",\n",
    "               \"x\",\"y\",\"z\",\n",
    "               \"rotation_y\"]\n",
    "    data[\"score\"] = np.random.random(data.shape[0])\n",
    "    data.to_csv(\"./results/result_sha/data/\"+ path.split(\"/\")[3],sep = \" \",header = False ,index = False)"
   ]
  }
 ],
 "metadata": {
  "kernelspec": {
   "display_name": "Python 3",
   "language": "python",
   "name": "python3"
  },
  "language_info": {
   "codemirror_mode": {
    "name": "ipython",
    "version": 3
   },
   "file_extension": ".py",
   "mimetype": "text/x-python",
   "name": "python",
   "nbconvert_exporter": "python",
   "pygments_lexer": "ipython3",
   "version": "3.8.12"
  }
 },
 "nbformat": 4,
 "nbformat_minor": 4
}
