{
 "cells": [
  {
   "cell_type": "code",
   "execution_count": 1,
   "metadata": {},
   "outputs": [],
   "source": [
    "import os\n",
    "import glob\n",
    "import pandas as pd\n",
    "import random\n",
    "import numpy as np"
   ]
  },
  {
   "cell_type": "code",
   "execution_count": 2,
   "metadata": {},
   "outputs": [],
   "source": [
    "truth_paths = glob.glob(\"data/object/label_2/*.txt\")"
   ]
  },
  {
   "cell_type": "code",
   "execution_count": 3,
   "metadata": {},
   "outputs": [],
   "source": [
    "os.makedirs(\"results/result_sha/data\")"
   ]
  },
  {
   "cell_type": "code",
   "execution_count": 4,
   "metadata": {},
   "outputs": [],
   "source": [
    "for path in truth_paths:\n",
    "    data = pd.read_csv(path,sep = \" \",header = None)\n",
    "    data.columns = [\"type\",\n",
    "               \"truncated\",\n",
    "               \"occluded\",\n",
    "               \"alpha\",\n",
    "               \"bbox_left\",\"bbox_top\",\"bbox_right\",\"bottom\",\n",
    "                \"height\",\"width\",\"length\",\n",
    "               \"x\",\"y\",\"z\",\n",
    "               \"rotation_y\"]\n",
    "    data[\"score\"] = np.random.random(data.shape[0])\n",
    "    data.to_csv(\"results/result_sha/data/\"+ path.split(\"/\")[3],sep = \" \",header = False ,index = False)"
   ]
  }
 ],
 "metadata": {
  "kernelspec": {
   "display_name": "Python 3",
   "language": "python",
   "name": "python3"
  },
  "language_info": {
   "codemirror_mode": {
    "name": "ipython",
    "version": 3
   },
   "file_extension": ".py",
   "mimetype": "text/x-python",
   "name": "python",
   "nbconvert_exporter": "python",
   "pygments_lexer": "ipython3",
   "version": "3.8.12"
  }
 },
 "nbformat": 4,
 "nbformat_minor": 4
}
